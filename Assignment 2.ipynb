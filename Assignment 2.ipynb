{
 "cells": [
  {
   "cell_type": "markdown",
   "id": "9d168003",
   "metadata": {},
   "source": [
    "# Assignment 2"
   ]
  },
  {
   "cell_type": "markdown",
   "id": "1496456f",
   "metadata": {},
   "source": [
    "## Abstract"
   ]
  },
  {
   "cell_type": "markdown",
   "id": "f6ced8de",
   "metadata": {},
   "source": [
    "Welcome to the second assignment for Dr Dhafer Malouche's DCSI 2 class. In part 1 of this assignment I am analyzing the results of over 43,000 international football matches. In part 2 of this assignment I am analyzing a dataset about COVID-19 cases. The results of Part 1 suggest results that are different from what is commonly thought. Teams perform worse at home compared to away games. Part 2 find that..."
   ]
  },
  {
   "cell_type": "markdown",
   "id": "4dafa3ca",
   "metadata": {},
   "source": [
    "## Part I"
   ]
  },
  {
   "cell_type": "markdown",
   "id": "95984b5a",
   "metadata": {},
   "source": [
    "Statistical Analysis of International Football Matches Based on Competiton and Pitch Location"
   ]
  },
  {
   "cell_type": "code",
   "execution_count": 39,
   "id": "1f182cdb",
   "metadata": {},
   "outputs": [
    {
     "name": "stderr",
     "output_type": "stream",
     "text": [
      "C:\\Users\\amirt\\AppData\\Local\\Temp/ipykernel_31316/2687880788.py:7: SettingWithCopyWarning: \n",
      "A value is trying to be set on a copy of a slice from a DataFrame.\n",
      "Try using .loc[row_indexer,col_indexer] = value instead\n",
      "\n",
      "See the caveats in the documentation: https://pandas.pydata.org/pandas-docs/stable/user_guide/indexing.html#returning-a-view-versus-a-copy\n",
      "  dfegy['typematch'] = np.select(conditions, values)\n"
     ]
    },
    {
     "data": {
      "text/plain": [
       "([<matplotlib.axis.YTick at 0x250d4b89820>,\n",
       "  <matplotlib.axis.YTick at 0x250d4b98c40>],\n",
       " [Text(0, 0, 'Friendly'), Text(0, 1, 'Official')])"
      ]
     },
     "execution_count": 39,
     "metadata": {},
     "output_type": "execute_result"
    },
    {
     "data": {
      "image/png": "[encoded data removed]",
      "text/plain": [
       "<Figure size 432x288 with 1 Axes>"
      ]
     },
     "metadata": {
      "needs_background": "light"
     },
     "output_type": "display_data"
    }
   ],
   "source": [
    "dfegy=df[df['country']=='Egypt']\n",
    "conditions = [\n",
    "    (dfegy['tournament']=='Friendly'),\n",
    "    (dfegy['tournament']!='Friendly')\n",
    "    ]\n",
    "values=['Friendly','Official']\n",
    "dfegy['typematch'] = np.select(conditions, values)\n",
    "dfegy['typematch'].value_counts()\n",
    "x=np.array(pd.crosstab(dfegy['typematch'],dfegy['result'],margins=True))\n",
    "CI_egywin_friendly=proportion_confint(count=x[0,2],nobs=x[0,3],alpha=(1-.95))\n",
    "CI_egywin_official=proportion_confint(count=x[1,2],nobs=x[1,3],alpha=(1-.95))\n",
    "ci_egywin = {}\n",
    "ci_egywin['Typematch'] = ['Friendly','Official']\n",
    "ci_egywin['lb'] = [CI_egywin_friendly[0],CI_egywin_official[0]]\n",
    "ci_egywin['ub'] = [CI_egywin_friendly[1],CI_egywin_official[1]]\n",
    "df_ci= pd.DataFrame(ci_egywin)\n",
    "for lb,ub,y in zip(df_ci['lb'],df_ci['ub'],range(len(df_ci))):\n",
    "    plt.plot((lb,ub),(y,y),'ro-')\n",
    "plt.yticks(range(len(df_ci)),list(df_ci['Typematch']))"
   ]
  },
  {
   "cell_type": "markdown",
   "id": "b2e6b838",
   "metadata": {},
   "source": [
    "Here we can see that Egypt has a higher chance of winning in friendly games. Is Egypt more likely to win in home games?"
   ]
  },
  {
   "cell_type": "code",
   "execution_count": 40,
   "id": "1872e005",
   "metadata": {},
   "outputs": [
    {
     "name": "stderr",
     "output_type": "stream",
     "text": [
      "C:\\Users\\amirt\\AppData\\Local\\Temp/ipykernel_31316/1657145951.py:1: SettingWithCopyWarning: \n",
      "A value is trying to be set on a copy of a slice from a DataFrame.\n",
      "Try using .loc[row_indexer,col_indexer] = value instead\n",
      "\n",
      "See the caveats in the documentation: https://pandas.pydata.org/pandas-docs/stable/user_guide/indexing.html#returning-a-view-versus-a-copy\n",
      "  dfegy['home']=(dfegy['home_team']=='Egypt')\n"
     ]
    },
    {
     "data": {
      "text/plain": [
       "([<matplotlib.axis.YTick at 0x250d55244c0>,\n",
       "  <matplotlib.axis.YTick at 0x250d5520e20>],\n",
       " [Text(0, 0, 'Yes'), Text(0, 1, 'No')])"
      ]
     },
     "execution_count": 40,
     "metadata": {},
     "output_type": "execute_result"
    },
    {
     "data": {
      "image/png": "[encoded data removed]",
      "text/plain": [
       "<Figure size 432x288 with 1 Axes>"
      ]
     },
     "metadata": {
      "needs_background": "light"
     },
     "output_type": "display_data"
    }
   ],
   "source": [
    "dfegy['home']=(dfegy['home_team']=='Egypt')\n",
    "x=np.array(pd.crosstab(dfegy['home'],dfegy['result'],margins=True))\n",
    "CI_egywin_home=proportion_confint(count=x[1,2],nobs=x[1,3],alpha=(1-.95))\n",
    "CI_egywin_away=proportion_confint(count=x[0,2],nobs=x[0,3],alpha=(1-.95))\n",
    "ci_egywin = {}\n",
    "ci_egywin['home'] = ['Yes','No']\n",
    "ci_egywin['lb'] = [CI_egywin_home[0],CI_egywin_away[0]]\n",
    "ci_egywin['ub'] = [CI_egywin_home[1],CI_egywin_away[1]]\n",
    "df_ci= pd.DataFrame(ci_egywin)\n",
    "for lb,ub,y in zip(df_ci['lb'],df_ci['ub'],range(len(df_ci))):\n",
    "    plt.plot((lb,ub),(y,y),'ro-')\n",
    "plt.yticks(range(len(df_ci)),list(df_ci['home']))"
   ]
  },
  {
   "cell_type": "markdown",
   "id": "98b9992a",
   "metadata": {},
   "source": [
    "Here we can see that Egypt less likely to win at home. This is odd since it is commonly known that countries/clubs perform better at home.Lets compare Egypt's results to other countries. "
   ]
  },
  {
   "cell_type": "code",
   "execution_count": 41,
   "id": "4f69494d",
   "metadata": {},
   "outputs": [
    {
     "name": "stderr",
     "output_type": "stream",
     "text": [
      "C:\\Users\\amirt\\AppData\\Local\\Temp/ipykernel_31316/679594915.py:7: SettingWithCopyWarning: \n",
      "A value is trying to be set on a copy of a slice from a DataFrame.\n",
      "Try using .loc[row_indexer,col_indexer] = value instead\n",
      "\n",
      "See the caveats in the documentation: https://pandas.pydata.org/pandas-docs/stable/user_guide/indexing.html#returning-a-view-versus-a-copy\n",
      "  dfeng['typematch'] = np.select(conditions, values)\n"
     ]
    },
    {
     "data": {
      "text/plain": [
       "([<matplotlib.axis.YTick at 0x250d6be4f70>,\n",
       "  <matplotlib.axis.YTick at 0x250d6be4910>],\n",
       " [Text(0, 0, 'Friendly'), Text(0, 1, 'Official')])"
      ]
     },
     "execution_count": 41,
     "metadata": {},
     "output_type": "execute_result"
    },
    {
     "data": {
      "image/png": "[encoded data removed]",
      "text/plain": [
       "<Figure size 432x288 with 1 Axes>"
      ]
     },
     "metadata": {
      "needs_background": "light"
     },
     "output_type": "display_data"
    }
   ],
   "source": [
    "dfeng=df[df['country']=='England']\n",
    "conditions = [\n",
    "    (dfeng['tournament']=='Friendly'),\n",
    "    (dfeng['tournament']!='Friendly')\n",
    "    ]\n",
    "values=['Friendly','Official']\n",
    "dfeng['typematch'] = np.select(conditions, values)\n",
    "dfeng['typematch'].value_counts()\n",
    "x=np.array(pd.crosstab(dfeng['typematch'],dfeng['result'],margins=True))\n",
    "CI_engwin_friendly=proportion_confint(count=x[0,2],nobs=x[0,3],alpha=(1-.95))\n",
    "CI_engwin_official=proportion_confint(count=x[1,2],nobs=x[1,3],alpha=(1-.95))\n",
    "ci_engwin = {}\n",
    "ci_engwin['Typematch'] = ['Friendly','Official']\n",
    "ci_engwin['lb'] = [CI_engwin_friendly[0],CI_engwin_official[0]]\n",
    "ci_engwin['ub'] = [CI_engwin_friendly[1],CI_engwin_official[1]]\n",
    "df_ci= pd.DataFrame(ci_engwin)\n",
    "for lb,ub,y in zip(df_ci['lb'],df_ci['ub'],range(len(df_ci))):\n",
    "    plt.plot((lb,ub),(y,y),'ro-')\n",
    "plt.yticks(range(len(df_ci)),list(df_ci['Typematch']))"
   ]
  },
  {
   "cell_type": "code",
   "execution_count": 42,
   "id": "a42f54c5",
   "metadata": {},
   "outputs": [
    {
     "name": "stderr",
     "output_type": "stream",
     "text": [
      "C:\\Users\\amirt\\AppData\\Local\\Temp/ipykernel_31316/1581948670.py:1: SettingWithCopyWarning: \n",
      "A value is trying to be set on a copy of a slice from a DataFrame.\n",
      "Try using .loc[row_indexer,col_indexer] = value instead\n",
      "\n",
      "See the caveats in the documentation: https://pandas.pydata.org/pandas-docs/stable/user_guide/indexing.html#returning-a-view-versus-a-copy\n",
      "  dfeng['home']=(dfeng['home_team']=='England')\n"
     ]
    },
    {
     "data": {
      "text/plain": [
       "([<matplotlib.axis.YTick at 0x250d642cc70>,\n",
       "  <matplotlib.axis.YTick at 0x250d642c610>],\n",
       " [Text(0, 0, 'Yes'), Text(0, 1, 'No')])"
      ]
     },
     "execution_count": 42,
     "metadata": {},
     "output_type": "execute_result"
    },
    {
     "data": {
      "image/png": "[encoded data removed]",
      "text/plain": [
       "<Figure size 432x288 with 1 Axes>"
      ]
     },
     "metadata": {
      "needs_background": "light"
     },
     "output_type": "display_data"
    }
   ],
   "source": [
    "dfeng['home']=(dfeng['home_team']=='England')\n",
    "x=np.array(pd.crosstab(dfeng['home'],dfeng['result'],margins=True))\n",
    "CI_engwin_home=proportion_confint(count=x[1,2],nobs=x[1,3],alpha=(1-.95))\n",
    "CI_engwin_away=proportion_confint(count=x[0,2],nobs=x[0,3],alpha=(1-.95))\n",
    "ci_engwin = {}\n",
    "ci_engwin['home'] = ['Yes','No']\n",
    "ci_engwin['lb'] = [CI_engwin_home[0],CI_engwin_away[0]]\n",
    "ci_engwin['ub'] = [CI_engwin_home[1],CI_engwin_away[1]]\n",
    "df_ci= pd.DataFrame(ci_engwin)\n",
    "for lb,ub,y in zip(df_ci['lb'],df_ci['ub'],range(len(df_ci))):\n",
    "    plt.plot((lb,ub),(y,y),'ro-')\n",
    "plt.yticks(range(len(df_ci)),list(df_ci['home']))"
   ]
  },
  {
   "cell_type": "markdown",
   "id": "5fc7e70f",
   "metadata": {},
   "source": [
    "These results show that England has similar chances at winning friendly or official games. Similar to Egypt, Englad is also less likely to win at home. "
   ]
  },
  {
   "cell_type": "code",
   "execution_count": 43,
   "id": "4f5bec4a",
   "metadata": {},
   "outputs": [
    {
     "name": "stderr",
     "output_type": "stream",
     "text": [
      "C:\\Users\\amirt\\AppData\\Local\\Temp/ipykernel_31316/393343555.py:7: SettingWithCopyWarning: \n",
      "A value is trying to be set on a copy of a slice from a DataFrame.\n",
      "Try using .loc[row_indexer,col_indexer] = value instead\n",
      "\n",
      "See the caveats in the documentation: https://pandas.pydata.org/pandas-docs/stable/user_guide/indexing.html#returning-a-view-versus-a-copy\n",
      "  dfsen['typematch'] = np.select(conditions, values)\n"
     ]
    },
    {
     "data": {
      "text/plain": [
       "([<matplotlib.axis.YTick at 0x250d6486730>,\n",
       "  <matplotlib.axis.YTick at 0x250d64860d0>],\n",
       " [Text(0, 0, 'Friendly'), Text(0, 1, 'Official')])"
      ]
     },
     "execution_count": 43,
     "metadata": {},
     "output_type": "execute_result"
    },
    {
     "data": {
      "image/png": "[encoded data removed]",
      "text/plain": [
       "<Figure size 432x288 with 1 Axes>"
      ]
     },
     "metadata": {
      "needs_background": "light"
     },
     "output_type": "display_data"
    }
   ],
   "source": [
    "dfsen=df[df['country']=='Senegal']\n",
    "conditions = [\n",
    "    (dfsen['tournament']=='Friendly'),\n",
    "    (dfsen['tournament']!='Friendly')\n",
    "    ]\n",
    "values=['Friendly','Official']\n",
    "dfsen['typematch'] = np.select(conditions, values)\n",
    "dfsen['typematch'].value_counts()\n",
    "x=np.array(pd.crosstab(dfsen['typematch'],dfsen['result'],margins=True))\n",
    "CI_senwin_friendly=proportion_confint(count=x[0,2],nobs=x[0,3],alpha=(1-.95))\n",
    "CI_senwin_official=proportion_confint(count=x[1,2],nobs=x[1,3],alpha=(1-.95))\n",
    "ci_senwin = {}\n",
    "ci_senwin['Typematch'] = ['Friendly','Official']\n",
    "ci_senwin['lb'] = [CI_senwin_friendly[0],CI_senwin_official[0]]\n",
    "ci_senwin['ub'] = [CI_senwin_friendly[1],CI_senwin_official[1]]\n",
    "df_ci= pd.DataFrame(ci_senwin)\n",
    "for lb,ub,y in zip(df_ci['lb'],df_ci['ub'],range(len(df_ci))):\n",
    "    plt.plot((lb,ub),(y,y),'ro-')\n",
    "plt.yticks(range(len(df_ci)),list(df_ci['Typematch']))"
   ]
  },
  {
   "cell_type": "code",
   "execution_count": 44,
   "id": "ad3114a9",
   "metadata": {},
   "outputs": [
    {
     "name": "stderr",
     "output_type": "stream",
     "text": [
      "C:\\Users\\amirt\\AppData\\Local\\Temp/ipykernel_31316/2625257543.py:1: SettingWithCopyWarning: \n",
      "A value is trying to be set on a copy of a slice from a DataFrame.\n",
      "Try using .loc[row_indexer,col_indexer] = value instead\n",
      "\n",
      "See the caveats in the documentation: https://pandas.pydata.org/pandas-docs/stable/user_guide/indexing.html#returning-a-view-versus-a-copy\n",
      "  dfsen['home']=(dfsen['home_team']=='Senegal')\n"
     ]
    },
    {
     "data": {
      "text/plain": [
       "([<matplotlib.axis.YTick at 0x250d64e5640>,\n",
       "  <matplotlib.axis.YTick at 0x250d64dffa0>],\n",
       " [Text(0, 0, 'Yes'), Text(0, 1, 'No')])"
      ]
     },
     "execution_count": 44,
     "metadata": {},
     "output_type": "execute_result"
    },
    {
     "data": {
      "image/png": "[encoded data removed]",
      "text/plain": [
       "<Figure size 432x288 with 1 Axes>"
      ]
     },
     "metadata": {
      "needs_background": "light"
     },
     "output_type": "display_data"
    }
   ],
   "source": [
    "dfsen['home']=(dfsen['home_team']=='Senegal')\n",
    "x=np.array(pd.crosstab(dfsen['home'],dfsen['result'],margins=True))\n",
    "CI_senwin_home=proportion_confint(count=x[1,2],nobs=x[1,3],alpha=(1-.95))\n",
    "CI_senwin_away=proportion_confint(count=x[0,2],nobs=x[0,3],alpha=(1-.95))\n",
    "ci_senwin = {}\n",
    "ci_senwin['home'] = ['Yes','No']\n",
    "ci_senwin['lb'] = [CI_senwin_home[0],CI_senwin_away[0]]\n",
    "ci_senwin['ub'] = [CI_senwin_home[1],CI_senwin_away[1]]\n",
    "df_ci= pd.DataFrame(ci_senwin)\n",
    "for lb,ub,y in zip(df_ci['lb'],df_ci['ub'],range(len(df_ci))):\n",
    "    plt.plot((lb,ub),(y,y),'ro-')\n",
    "plt.yticks(range(len(df_ci)),list(df_ci['home']))"
   ]
  },
  {
   "cell_type": "markdown",
   "id": "cb5942d3",
   "metadata": {},
   "source": [
    "Senegal's graphs are very similar to Egypt's. They are more likely to win in friendly games, and less likely to win at home. "
   ]
  },
  {
   "cell_type": "code",
   "execution_count": 45,
   "id": "b9225aaa",
   "metadata": {},
   "outputs": [
    {
     "name": "stderr",
     "output_type": "stream",
     "text": [
      "C:\\Users\\amirt\\AppData\\Local\\Temp/ipykernel_31316/1628627568.py:7: SettingWithCopyWarning: \n",
      "A value is trying to be set on a copy of a slice from a DataFrame.\n",
      "Try using .loc[row_indexer,col_indexer] = value instead\n",
      "\n",
      "See the caveats in the documentation: https://pandas.pydata.org/pandas-docs/stable/user_guide/indexing.html#returning-a-view-versus-a-copy\n",
      "  dfbra['typematch'] = np.select(conditions, values)\n"
     ]
    },
    {
     "data": {
      "text/plain": [
       "([<matplotlib.axis.YTick at 0x250d6540c40>,\n",
       "  <matplotlib.axis.YTick at 0x250d65405e0>],\n",
       " [Text(0, 0, 'Friendly'), Text(0, 1, 'Official')])"
      ]
     },
     "execution_count": 45,
     "metadata": {},
     "output_type": "execute_result"
    },
    {
     "data": {
      "image/png": "[encoded data removed]",
      "text/plain": [
       "<Figure size 432x288 with 1 Axes>"
      ]
     },
     "metadata": {
      "needs_background": "light"
     },
     "output_type": "display_data"
    }
   ],
   "source": [
    "dfbra=df[df['country']=='Brazil']\n",
    "conditions = [\n",
    "    (dfbra['tournament']=='Friendly'),\n",
    "    (dfbra['tournament']!='Friendly')\n",
    "    ]\n",
    "values=['Friendly','Official']\n",
    "dfbra['typematch'] = np.select(conditions, values)\n",
    "dfbra['typematch'].value_counts()\n",
    "x=np.array(pd.crosstab(dfbra['typematch'],dfbra['result'],margins=True))\n",
    "CI_brawin_friendly=proportion_confint(count=x[0,2],nobs=x[0,3],alpha=(1-.95))\n",
    "CI_brawin_official=proportion_confint(count=x[1,2],nobs=x[1,3],alpha=(1-.95))\n",
    "ci_brawin = {}\n",
    "ci_brawin['Typematch'] = ['Friendly','Official']\n",
    "ci_brawin['lb'] = [CI_brawin_friendly[0],CI_brawin_official[0]]\n",
    "ci_brawin['ub'] = [CI_brawin_friendly[1],CI_brawin_official[1]]\n",
    "df_ci= pd.DataFrame(ci_brawin)\n",
    "for lb,ub,y in zip(df_ci['lb'],df_ci['ub'],range(len(df_ci))):\n",
    "    plt.plot((lb,ub),(y,y),'ro-')\n",
    "plt.yticks(range(len(df_ci)),list(df_ci['Typematch']))"
   ]
  },
  {
   "cell_type": "code",
   "execution_count": 46,
   "id": "0b74d1ba",
   "metadata": {},
   "outputs": [
    {
     "name": "stderr",
     "output_type": "stream",
     "text": [
      "C:\\Users\\amirt\\AppData\\Local\\Temp/ipykernel_31316/2056149000.py:1: SettingWithCopyWarning: \n",
      "A value is trying to be set on a copy of a slice from a DataFrame.\n",
      "Try using .loc[row_indexer,col_indexer] = value instead\n",
      "\n",
      "See the caveats in the documentation: https://pandas.pydata.org/pandas-docs/stable/user_guide/indexing.html#returning-a-view-versus-a-copy\n",
      "  dfbra['home']=(dfbra['home_team']=='Brazil')\n"
     ]
    },
    {
     "data": {
      "text/plain": [
       "([<matplotlib.axis.YTick at 0x250d6598f10>,\n",
       "  <matplotlib.axis.YTick at 0x250d65988b0>],\n",
       " [Text(0, 0, 'Yes'), Text(0, 1, 'No')])"
      ]
     },
     "execution_count": 46,
     "metadata": {},
     "output_type": "execute_result"
    },
    {
     "data": {
      "image/png": "[encoded data removed]",
      "text/plain": [
       "<Figure size 432x288 with 1 Axes>"
      ]
     },
     "metadata": {
      "needs_background": "light"
     },
     "output_type": "display_data"
    }
   ],
   "source": [
    "dfbra['home']=(dfbra['home_team']=='Brazil')\n",
    "x=np.array(pd.crosstab(dfbra['home'],dfbra['result'],margins=True))\n",
    "CI_brawin_home=proportion_confint(count=x[1,2],nobs=x[1,3],alpha=(1-.95))\n",
    "CI_brawin_away=proportion_confint(count=x[0,2],nobs=x[0,3],alpha=(1-.95))\n",
    "ci_brawin = {}\n",
    "ci_brawin['home'] = ['Yes','No']\n",
    "ci_brawin['lb'] = [CI_brawin_home[0],CI_brawin_away[0]]\n",
    "ci_brawin['ub'] = [CI_brawin_home[1],CI_brawin_away[1]]\n",
    "df_ci= pd.DataFrame(ci_brawin)\n",
    "for lb,ub,y in zip(df_ci['lb'],df_ci['ub'],range(len(df_ci))):\n",
    "    plt.plot((lb,ub),(y,y),'ro-')\n",
    "plt.yticks(range(len(df_ci)),list(df_ci['home']))"
   ]
  },
  {
   "cell_type": "markdown",
   "id": "e66484aa",
   "metadata": {},
   "source": [
    "Unlike all the previous teams, Brazil is much more likely to win official matches. Similarly to the rest, they are much more likely to win away from home. "
   ]
  },
  {
   "cell_type": "markdown",
   "id": "6db67f07",
   "metadata": {},
   "source": [
    "## Discussion"
   ]
  },
  {
   "cell_type": "markdown",
   "id": "48c626e1",
   "metadata": {},
   "source": [
    "   Egypt and Senegal are more likely to win Friendly matches. This may be because there's less stress. Stress makes a huge difference for football players. Xavi, the manager of Barcelona, said \"the Barca shirt weighs a few kilos more\" when addressing the underperformance of one of his players. He made this statement to emphasize that stress makes a big difference to players. This could also be due to these teams (Egypt & Senegal) taking friendly matches more seriously than their opponents which is not always a good thing. Friendly matches are often used by managers to experiment with new players and tactics. Brazil is much more likely to win in official competitions than in friendly games. This may be since they like to experiment with new lineups and tactics as mentioned before. This could also be due to the manager choosing to play younger, more inexperienced players that he sees potential in to prepare them for official games. We can see the success of this tactic when we look at the amount of young Brazillian footballers who play at the highest level. Real Madrid's Vinicius Jr. and Rodygo, Arsenal's Gabriel Martinelli, Ajax's Antony, Watford's Joao Pedro, and many more.\n",
    "   All 4 countries observed here are less likely to win at home than away. This is extremely odd since it is known that countries do better at home. So why is it that they don't? Maybe because in most international tournaments countries at home could be seen as \"defending\" since every international game that isn't a friendly or a knockout stage game takes into account how goals a team concedes at home. "
   ]
  },
  {
   "cell_type": "markdown",
   "id": "ce13c19a",
   "metadata": {},
   "source": [
    "# Part II"
   ]
  },
  {
   "cell_type": "markdown",
   "id": "10ae8331",
   "metadata": {},
   "source": [
    "Analysis of the COVID-19 Pandemic Over 2020-2021 in 187 Countries."
   ]
  },
  {
   "cell_type": "code",
   "execution_count": 54,
   "id": "8c16cc6d",
   "metadata": {},
   "outputs": [],
   "source": [
    "from scipy.stats import t"
   ]
  },
  {
   "cell_type": "code",
   "execution_count": 55,
   "id": "6b886ad5",
   "metadata": {},
   "outputs": [],
   "source": [
    "cov=pd.read_csv('covid_data.csv',encoding='latin-1')"
   ]
  },
  {
   "cell_type": "code",
   "execution_count": 56,
   "id": "6ca3bf57",
   "metadata": {},
   "outputs": [
    {
     "data": {
      "text/plain": [
       "2020"
      ]
     },
     "execution_count": 56,
     "metadata": {},
     "output_type": "execute_result"
    }
   ],
   "source": [
    "from pandas.api.types import CategoricalDtype\n",
    "cats=['Jan', 'Feb', 'Mar','Apr','May','Jun','Jul','Aug','Sep','Oct','Nov','Dec']\n",
    "cat_type = CategoricalDtype(categories=cats, ordered=True)\n",
    "cov['month'] = cov['month'].astype(cat_type)\n",
    "def get_ci_lb(x, alpha=0.05):\n",
    "    sample_s=np.std(x)\n",
    "    sample_mean=np.mean(x)\n",
    "    sample_size=len(x)\n",
    "    margin_of_error = t.ppf(1 - alpha/2,sample_size-1)*sample_s/np.sqrt(sample_size-1)\n",
    "    return sample_mean - margin_of_error\n",
    "def get_ci_ub(x, alpha=0.05):\n",
    "    sample_s=np.std(x)\n",
    "    sample_mean=np.mean(x)\n",
    "    sample_size=len(x)\n",
    "    margin_of_error = t.ppf(1 - alpha/2,sample_size-1)*sample_s/np.sqrt(sample_size-1)\n",
    "    return sample_mean + margin_of_error\n",
    "cov['date'][0]\n",
    "cov['date'] = pd. to_datetime(cov['date'],format='%Y-%m-%d')\n",
    "cov['date'][0]\n",
    "cov['year'] = pd. DatetimeIndex(cov['date']). year\n",
    "cov['year'][0]"
   ]
  },
  {
   "cell_type": "code",
   "execution_count": 57,
   "id": "0c532d2d",
   "metadata": {},
   "outputs": [],
   "source": [
    "cov[\"sdr\"]=cov[\"ddeaths\"]/cov[\"dcases\"]\n",
    "cov = cov.replace([np.inf, -np.inf], np.nan).dropna(axis=0)\n",
    "contyear=cov.groupby(['continent','year']).agg({\"sdr\": [np.mean, np.std, np.size,get_ci_lb,get_ci_ub]})\n",
    "contyear=contyear.reset_index()\n",
    "contyear=pd.DataFrame(contyear)\n",
    "contyear20=contyear[(contyear['year']==2020)]\n",
    "contyear21=contyear[(contyear['year']==2021)]\n",
    "contyear20.columns\n",
    "contyear20.columns=['continent','year','mean','std','size','get_ci_lb','get_ci_ub']\n",
    "contyear21.columns\n",
    "contyear21.columns=['continent','year','mean','std','size','get_ci_lb','get_ci_ub']\n",
    "regyear=cov.groupby(['region','year']).agg({\"sdr\": [np.mean, np.std, np.size,get_ci_lb,get_ci_ub]})\n",
    "regyear=regyear.reset_index()\n",
    "regyear= pd.DataFrame(regyear)\n",
    "regyear20=regyear[(regyear['year']==2020)]\n",
    "regyear21=regyear[(regyear['year']==2021)]\n",
    "regyear20.columns\n",
    "regyear20.columns=['continent','year','mean','std','size','get_ci_lb','get_ci_ub']\n",
    "regyear21.columns\n",
    "regyear21.columns=['continent','year','mean','std','size','get_ci_lb','get_ci_ub']\n",
    "incyear=cov.groupby(['income','year']).agg({\"sdr\": [np.mean, np.std, np.size,get_ci_lb,get_ci_ub]})\n",
    "incyear=incyear.reset_index()\n",
    "incyear= pd.DataFrame(incyear)\n",
    "incyear20=incyear[(incyear['year']==2020)]\n",
    "incyear21=incyear[(incyear['year']==2021)]\n",
    "incyear20.columns\n",
    "incyear20.columns=['continent','year','mean','std','size','get_ci_lb','get_ci_ub']\n",
    "incyear21.columns\n",
    "incyear21.columns=['continent','year','mean','std','size','get_ci_lb','get_ci_ub']"
   ]
  },
  {
   "cell_type": "code",
   "execution_count": 58,
   "id": "87189f50",
   "metadata": {},
   "outputs": [
    {
     "data": {
      "text/plain": [
       "Text(0.5, 1.0, 'Ratio of Deaths to COVID-19 Cases by Continent 2020')"
      ]
     },
     "execution_count": 58,
     "metadata": {},
     "output_type": "execute_result"
    },
    {
     "data": {
      "image/png": "[encoded data removed]",
      "text/plain": [
       "<Figure size 432x288 with 1 Axes>"
      ]
     },
     "metadata": {
      "needs_background": "light"
     },
     "output_type": "display_data"
    }
   ],
   "source": [
    "import matplotlib.pyplot as plt\n",
    "for lb,ub,y in zip(contyear20['get_ci_lb'],contyear20['get_ci_ub'],range(len(contyear))):\n",
    "    plt.plot((lb,ub),(y,y),'ro-')\n",
    "plt.yticks(range(len(contyear20)),list(contyear20['continent']))\n",
    "plt.xlabel(\"Ratio of Deaths to COVID-19\")\n",
    "plt.ylabel(\"Continent\")\n",
    "plt.title(\"Ratio of Deaths to COVID-19 Cases by Continent 2020\")"
   ]
  },
  {
   "cell_type": "code",
   "execution_count": 59,
   "id": "fe13d397",
   "metadata": {},
   "outputs": [
    {
     "data": {
      "text/plain": [
       "Text(0.5, 1.0, 'Ratio of Deaths to COVID-19 Cases by Continent 2021')"
      ]
     },
     "execution_count": 59,
     "metadata": {},
     "output_type": "execute_result"
    },
    {
     "data": {
      "image/png": "[encoded data removed]",
      "text/plain": [
       "<Figure size 432x288 with 1 Axes>"
      ]
     },
     "metadata": {
      "needs_background": "light"
     },
     "output_type": "display_data"
    }
   ],
   "source": [
    "for lb,ub,y in zip(contyear21['get_ci_lb'],contyear21['get_ci_ub'],range(len(contyear))):\n",
    "    plt.plot((lb,ub),(y,y),'ro-')\n",
    "plt.yticks(range(len(contyear21)),list(contyear21['continent']))\n",
    "plt.xlabel(\"Ratio of Deaths to COVID-19\")\n",
    "plt.ylabel(\"Continent\")\n",
    "plt.title(\"Ratio of Deaths to COVID-19 Cases by Continent 2021\")"
   ]
  },
  {
   "cell_type": "code",
   "execution_count": 60,
   "id": "ccaa5f36",
   "metadata": {},
   "outputs": [
    {
     "data": {
      "text/plain": [
       "Text(0.5, 1.0, 'Ratio of Deaths to COVID-19 Cases by Region 2020')"
      ]
     },
     "execution_count": 60,
     "metadata": {},
     "output_type": "execute_result"
    },
    {
     "data": {
      "image/png": "[encoded data removed]",
      "text/plain": [
       "<Figure size 432x288 with 1 Axes>"
      ]
     },
     "metadata": {
      "needs_background": "light"
     },
     "output_type": "display_data"
    }
   ],
   "source": [
    "for lb,ub,y in zip(regyear20['get_ci_lb'],regyear20['get_ci_ub'],range(len(regyear))):\n",
    "    plt.plot((lb,ub),(y,y),'ro-')\n",
    "plt.yticks(range(len(regyear20)),list(regyear20['continent']))\n",
    "plt.xlabel(\"Ratio of Deaths to COVID-19\")\n",
    "plt.ylabel(\"Region\")\n",
    "plt.title(\"Ratio of Deaths to COVID-19 Cases by Region 2020\")"
   ]
  },
  {
   "cell_type": "code",
   "execution_count": 61,
   "id": "04b07200",
   "metadata": {},
   "outputs": [
    {
     "data": {
      "text/plain": [
       "Text(0.5, 1.0, 'Ratio of Deaths to COVID-19 Cases by Region 2021')"
      ]
     },
     "execution_count": 61,
     "metadata": {},
     "output_type": "execute_result"
    },
    {
     "data": {
      "image/png": "[encoded data removed]",
      "text/plain": [
       "<Figure size 432x288 with 1 Axes>"
      ]
     },
     "metadata": {
      "needs_background": "light"
     },
     "output_type": "display_data"
    }
   ],
   "source": [
    "for lb,ub,y in zip(regyear21['get_ci_lb'],regyear21['get_ci_ub'],range(len(regyear))):\n",
    "    plt.plot((lb,ub),(y,y),'ro-')\n",
    "plt.yticks(range(len(regyear21)),list(regyear21['continent']))\n",
    "plt.xlabel(\"Ratio of Deaths to COVID-19\")\n",
    "plt.ylabel(\"Region\")\n",
    "plt.title(\"Ratio of Deaths to COVID-19 Cases by Region 2021\")"
   ]
  },
  {
   "cell_type": "code",
   "execution_count": 62,
   "id": "2d20524e",
   "metadata": {},
   "outputs": [
    {
     "data": {
      "text/plain": [
       "Text(0.5, 1.0, 'Ratio of Deaths to COVID-19 Cases by Income 2020')"
      ]
     },
     "execution_count": 62,
     "metadata": {},
     "output_type": "execute_result"
    },
    {
     "data": {
      "image/png": "[encoded data removed]",
      "text/plain": [
       "<Figure size 432x288 with 1 Axes>"
      ]
     },
     "metadata": {
      "needs_background": "light"
     },
     "output_type": "display_data"
    }
   ],
   "source": [
    "for lb,ub,y in zip(incyear20['get_ci_lb'],incyear20['get_ci_ub'],range(len(incyear20))):\n",
    "    plt.plot((lb,ub),(y,y),'ro-')\n",
    "plt.yticks(range(len(incyear20)),list(incyear20['continent']))\n",
    "plt.xlabel(\"Ratio of Deaths to COVID-19\")\n",
    "plt.ylabel(\"Income\")\n",
    "plt.title(\"Ratio of Deaths to COVID-19 Cases by Income 2020\")"
   ]
  },
  {
   "cell_type": "code",
   "execution_count": 63,
   "id": "d349b00a",
   "metadata": {},
   "outputs": [
    {
     "data": {
      "text/plain": [
       "Text(0.5, 1.0, 'Ratio of Deaths to COVID-19 Cases by Income 2021')"
      ]
     },
     "execution_count": 63,
     "metadata": {},
     "output_type": "execute_result"
    },
    {
     "data": {
      "image/png": "[encoded data removed]",
      "text/plain": [
       "<Figure size 432x288 with 1 Axes>"
      ]
     },
     "metadata": {
      "needs_background": "light"
     },
     "output_type": "display_data"
    }
   ],
   "source": [
    "for lb,ub,y in zip(incyear21['get_ci_lb'],incyear21['get_ci_ub'],range(len(incyear21))):\n",
    "    plt.plot((lb,ub),(y,y),'ro-')\n",
    "plt.yticks(range(len(incyear21)),list(incyear21['continent']))\n",
    "plt.xlabel(\"Ratio of Deaths to COVID-19\")\n",
    "plt.ylabel(\"Income\")\n",
    "plt.title(\"Ratio of Deaths to COVID-19 Cases by Income 2021\")"
   ]
  },
  {
   "cell_type": "markdown",
   "id": "3a081463",
   "metadata": {},
   "source": [
    "## Discussion"
   ]
  },
  {
   "cell_type": "markdown",
   "id": "dbcbf5f8",
   "metadata": {},
   "source": [
    "The ratio of death to COVID-19 cases decreases slightly in Europe and South America. This is because Europe has a few underdeveloped countries. Oceania's rate dramatically decreased. This may be due to the education system in Oceania being one of the best. North America and Aisa's rates decreased slightly. This may be due to the wide variety of socioeconomic classes, educational levels, and restrictions in these two continents. Africa's rate increased by a significant amount. This is due to the lack of education and governmental involvement. As for region, the results are mixed. The ratio of Sub-saharan desert and South Asia increased, as expected since these regions aren't developed enough. The Middle East & North Africa, on the other hand, were expected to increase since they're also not as developed as the rest. However, they maintained their rate. This rate was already high which counteracts this achievement. Europe & Central Asia and East Asia & Pacific slightly lowered their rates. This is expected because most of the countries of significance are well developed and the people in them are fairly knowledgeable. North America is the only region to have heavily lowered its rates. This is due to the exclusion of Mexico from North America as a region. The results for income are conflicting. Because, in 2021, while the high-income group has the lowest death rate and the low-income group has the highest, as expected, This isn't always the way things were. In 2020, the lower-middle-income had the lowest death rate while low-income had the highest. In 2021, low-middle income had the steepest incline out of all. Upper middle income slightly increased, and low income maintained its rate. High income decreased sharply. Possibly because people learned the dangers of COVID-19 later than others. "
   ]
  }
 ],
 "metadata": {
  "kernelspec": {
   "display_name": "Python 3 (ipykernel)",
   "language": "python",
   "name": "python3"
  },
  "language_info": {
   "codemirror_mode": {
    "name": "ipython",
    "version": 3
   },
   "file_extension": ".py",
   "mimetype": "text/x-python",
   "name": "python",
   "nbconvert_exporter": "python",
   "pygments_lexer": "ipython3",
   "version": "3.9.7"
  }
 },
 "nbformat": 4,
 "nbformat_minor": 5
}
